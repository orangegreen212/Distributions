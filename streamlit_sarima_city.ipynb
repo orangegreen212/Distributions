{
  "nbformat": 4,
  "nbformat_minor": 0,
  "metadata": {
    "colab": {
      "provenance": [],
      "authorship_tag": "ABX9TyOzGGZpRVv77ZmpM05ZFsVw",
      "include_colab_link": true
    },
    "kernelspec": {
      "name": "python3",
      "display_name": "Python 3"
    },
    "language_info": {
      "name": "python"
    }
  },
  "cells": [
    {
      "cell_type": "markdown",
      "metadata": {
        "id": "view-in-github",
        "colab_type": "text"
      },
      "source": [
        "<a href=\"https://colab.research.google.com/github/orangegreen212/Distributions/blob/main/streamlit_sarima_city.ipynb\" target=\"_parent\"><img src=\"https://colab.research.google.com/assets/colab-badge.svg\" alt=\"Open In Colab\"/></a>"
      ]
    },
    {
      "cell_type": "code",
      "source": [
        "!pip install streamlit numpy matplotlib seaborn pyngrok statsmodels -q"
      ],
      "metadata": {
        "id": "IgfU912BZO3y"
      },
      "execution_count": 16,
      "outputs": []
    },
    {
      "cell_type": "code",
      "source": [
        "!ngrok config add-authtoken '2vJym8baVod4QCRn9vpleiOJtEZ_2Tfn2eYGY3TVeo1xg6xco'\n"
      ],
      "metadata": {
        "colab": {
          "base_uri": "https://localhost:8080/"
        },
        "id": "qpIXuh97bRET",
        "outputId": "bb5a3e37-d51f-4b98-dda5-5136d5a8987a"
      },
      "execution_count": 17,
      "outputs": [
        {
          "output_type": "stream",
          "name": "stdout",
          "text": [
            "Authtoken saved to configuration file: /root/.config/ngrok/ngrok.yml\n"
          ]
        }
      ]
    },
    {
      "cell_type": "code",
      "source": [
        "from pyngrok import ngrok\n",
        "import time\n",
        "import os\n",
        "\n",
        "# Terminate existing ngrok processes/tunnels\n",
        "ngrok.kill()\n",
        "\n",
        "log_file = \"streamlit_logs.txt\"\n",
        "\n",
        "print(\"Запуск Streamlit в фоновом режиме...\")\n",
        "# Используем python -m streamlit для корректного запуска скрипта\n",
        "# Перенаправляем вывод в файл логов\n",
        "!python -m streamlit run streamlit_sarima_city.py --server.port 8501 --server.headless true --server.enableCORS false &> {log_file} &\n",
        "\n",
        "# Даем Streamlit время на запуск\n",
        "sleep_duration = 25 # Увеличено на всякий случай\n",
        "print(f\"Ожидание запуска Streamlit ({sleep_duration} секунд)...\")\n",
        "time.sleep(sleep_duration)\n",
        "\n",
        "# --- Проверка логов Streamlit ---\n",
        "print(f\"\\nПроверка логов Streamlit из файла '{log_file}':\")\n",
        "if os.path.exists(log_file):\n",
        "    !cat -n {log_file} # Выводим логи с номерами строк\n",
        "else:\n",
        "    print(f\"Файл логов '{log_file}' не найден.\")\n",
        "print(\"--- Конец логов Streamlit ---\")\n",
        "# --------------------------------\n",
        "\n",
        "print(\"\\nПодключение ngrok...\")\n",
        "try:\n",
        "    # Указываем порт явно\n",
        "    public_url = ngrok.connect(8501).public_url\n",
        "    print(f\"\\nStreamlit App URL: {public_url}\")\n",
        "    print(\"\\nЕсли URL появился, но страница не загружается или показывает ошибки, проверьте логи Streamlit выше.\")\n",
        "\n",
        "except Exception as e:\n",
        "    print(f\"\\nError connecting ngrok: {e}\")\n",
        "    print(\"Streamlit, вероятно, не запустился или упал. Проверьте логи Streamlit выше.\")"
      ],
      "metadata": {
        "colab": {
          "base_uri": "https://localhost:8080/"
        },
        "id": "xaJN8hr_bUOU",
        "outputId": "b61ff41f-1656-4461-906b-4c330c05d9de"
      },
      "execution_count": 23,
      "outputs": [
        {
          "output_type": "stream",
          "name": "stdout",
          "text": [
            "Запуск Streamlit в фоновом режиме...\n",
            "Ожидание запуска Streamlit (25 секунд)...\n",
            "\n",
            "Проверка логов Streamlit из файла 'streamlit_logs.txt':\n",
            "     1\t2025-04-22 12:08:15.156 \n",
            "     2\tWarning: the config option 'server.enableCORS=false' is not compatible with 'server.enableXsrfProtection=true'.\n",
            "     3\tAs a result, 'server.enableCORS' is being overridden to 'true'.\n",
            "     4\t\n",
            "     5\tMore information:\n",
            "     6\tIn order to protect against CSRF attacks, we send a cookie with each request.\n",
            "     7\tTo do so, we must specify allowable origins, which places a restriction on\n",
            "     8\tcross-origin resource sharing.\n",
            "     9\t\n",
            "    10\tIf cross origin resource sharing is required, please disable server.enableXsrfProtection.\n",
            "    11\t            \n",
            "    12\t\n",
            "    13\tCollecting usage statistics. To deactivate, set browser.gatherUsageStats to false.\n",
            "    14\t\n",
            "    15\t2025-04-22 12:08:15.186 Port 8501 is already in use\n",
            "--- Конец логов Streamlit ---\n",
            "\n",
            "Подключение ngrok...\n",
            "\n",
            "Streamlit App URL: https://d71e-35-229-189-216.ngrok-free.app\n",
            "\n",
            "Если URL появился, но страница не загружается или показывает ошибки, проверьте логи Streamlit выше.\n"
          ]
        }
      ]
    }
  ]
}